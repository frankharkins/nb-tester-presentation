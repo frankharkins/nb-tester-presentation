{
 "cells": [
  {
   "cell_type": "markdown",
   "id": "70662ad0-6ebd-447e-9eac-e73fb1f29d60",
   "metadata": {},
   "source": [
    "# Quirks of Jupyter notebooks\n",
    "\n",
    "This notebook demonstrates some behaviours specific to IPython and Jupyter notebooks that we encounter in Qiskit and its docs."
   ]
  },
  {
   "cell_type": "markdown",
   "id": "ee6533aa-78a8-48ca-b130-4960098056ea",
   "metadata": {},
   "source": [
    "## 1. Jupyter `display`\n",
    "\n",
    "Key points:\n",
    "* IPython (including Jupyter) has a built-in function named `display`. This is **not** a standard Python built-in.\n",
    "* IPython evaluates and _`display`s_ the last line of a code cell.\n",
    "\n",
    "For example, the last line of the following cell evaluates to the string `'Hello, world!'`."
   ]
  },
  {
   "cell_type": "code",
   "execution_count": null,
   "id": "83580785-405a-4eb8-b6ac-777b5aedea85",
   "metadata": {},
   "outputs": [],
   "source": [
    "x = \"Hello, world!\"\n",
    "x"
   ]
  },
  {
   "cell_type": "markdown",
   "id": "bf5bfc5f-f918-4429-8ded-e321bcb75958",
   "metadata": {},
   "source": [
    "Note the quotes around the string, this is because `display` shows the `__repr__` method of an object, whereas `print` prints the `__str__` method."
   ]
  },
  {
   "cell_type": "code",
   "execution_count": null,
   "id": "2db93129-8026-4fb7-a3f8-858dfddf087e",
   "metadata": {},
   "outputs": [],
   "source": [
    "print(x)\n",
    "print(x.__repr__())\n",
    "display(x)  # note no import needed\n",
    "x  # `display` is called on this value to produce the cell output"
   ]
  },
  {
   "cell_type": "markdown",
   "id": "c29782ed-7290-4ace-a5e6-6b8824269844",
   "metadata": {},
   "source": [
    "If an object doesn't have a `__repr__`, `display` will show the object type and pointer (this is usually useless to users)."
   ]
  },
  {
   "cell_type": "code",
   "execution_count": null,
   "id": "80035ece-111e-4056-93c9-2c3a97908c27",
   "metadata": {},
   "outputs": [],
   "source": [
    "class Frank:\n",
    "    pass\n",
    "\n",
    "\n",
    "Frank()"
   ]
  },
  {
   "cell_type": "markdown",
   "id": "28ba18cd-3036-4040-835c-cb82a173ba91",
   "metadata": {},
   "source": [
    "Authors can define their own `__repr__` methods. This method _should_ return the Python string you'd evaluate to create that object (that's why the quotes were included in the previous cell outputs). However, this isn't always possible, so some objects return an approximation or omit information (for an example, try displaying a large numpy array)."
   ]
  },
  {
   "cell_type": "code",
   "execution_count": null,
   "id": "07df76e1-768f-46e9-9539-2b282d94077b",
   "metadata": {},
   "outputs": [],
   "source": [
    "class FrankWithRepr:\n",
    "    def __repr__(self):\n",
    "        return \"FrankWithRepr(...)\"\n",
    "\n",
    "\n",
    "FrankWithRepr()"
   ]
  },
  {
   "cell_type": "markdown",
   "id": "33665a7d-636f-400f-bf4c-6d6cf8818e81",
   "metadata": {},
   "source": [
    "This can cause confusion with users coming from Python when they copy code from a notebook and see no output in their terminal. The solution is usually to tell them to `print` the appropriate lines."
   ]
  },
  {
   "cell_type": "markdown",
   "id": "2ec8e448-53f2-4b1b-bbec-addd12a406c7",
   "metadata": {},
   "source": [
    "## 2. Rich outputs\n",
    "\n",
    "One of the main advantages to running IPython in a browser is the ability to display images and other rich content inline. Jupyter does this using special display methods. For example, the following object has a method named `_repr_svg_`; `display` recognizes this method and calls it, then shows the output as an SVG to the user.\n",
    "\n",
    "Note this object also has a `__repr__` method; Jupyter does not display the `__repr__` to the user since there is a richer alternative (SVG) available. However, it _does_ call the `__repr__` method and saves the output in the notebook (check the notebook source to see). This is so different viewers can choose how they want to display each notebook. For a full list of rich outputs, see https://ipython.readthedocs.io/en/stable/config/integrating.html."
   ]
  },
  {
   "cell_type": "code",
   "execution_count": null,
   "id": "a92e65f6-2cc8-4d8b-a44b-89d6e2cdf693",
   "metadata": {},
   "outputs": [],
   "source": [
    "class Circle:\n",
    "    def __init__(self, color: str):\n",
    "        self.color = color\n",
    "\n",
    "    def __repr__(self):\n",
    "        return f\"Circle(color={self.color.__repr__()})\"\n",
    "\n",
    "    def _repr_svg_(self):\n",
    "        return f\"\"\"\n",
    "          <svg version=\"1.1\" width=\"300\" height=\"200\" xmlns=\"http://www.w3.org/2000/svg\">\n",
    "            <circle cx=\"150\" cy=\"100\" r=\"80\" fill=\"{self.color}\" />\n",
    "          </svg>\n",
    "          \"\"\"\n",
    "\n",
    "\n",
    "Circle(color=\"red\")"
   ]
  },
  {
   "cell_type": "markdown",
   "id": "74c32c7a-a1ae-4687-bec4-7423b320bb1b",
   "metadata": {},
   "source": [
    "> **Note:** A very relevant example in Qiskit is `QuantumCircuit.draw`, which returns a Matplotlib `Figure` object. The matplotlib object has a rich output, which is why it displays an image when it's the last line of a cell. Users are often confused as to why `qc.draw()` doesn't \"do anything\" when called in a loop, the solution is usually to replace the line with `display(qc.draw())`."
   ]
  },
  {
   "cell_type": "markdown",
   "id": "fc808289-be70-44aa-bc2c-d8f95694a14d",
   "metadata": {},
   "source": [
    "## 3. Input/Output caching system\n",
    "\n",
    "Jupyter saves the inputs and results of past cell executions in memory. I recommend **not** using this in user-facing code as it can quickly become confusing, but it can be very useful for testing."
   ]
  },
  {
   "cell_type": "code",
   "execution_count": null,
   "id": "bf571ad4-2a50-43d5-a720-65021a00e325",
   "metadata": {},
   "outputs": [],
   "source": [
    "# Underscore (_) stores the output of the most recently executed code cell.\n",
    "# In this case, the Circle object.\n",
    "_"
   ]
  },
  {
   "cell_type": "code",
   "execution_count": null,
   "id": "b5dcfa9d-1108-4321-bc49-48931115e266",
   "metadata": {},
   "outputs": [],
   "source": [
    "# Can use this to check properties of cell outputs\n",
    "assert _.color == 'red'"
   ]
  },
  {
   "cell_type": "code",
   "execution_count": null,
   "id": "ead5b0ba-931e-493a-9349-70ee316776f1",
   "metadata": {},
   "outputs": [],
   "source": [
    "print(_i) # Input of previous execution"
   ]
  },
  {
   "cell_type": "markdown",
   "id": "a9a91046-d3e5-4ab3-af85-8baaa941f314",
   "metadata": {},
   "source": [
    "For more information, see docs for the [input caching system](https://ipython.readthedocs.io/en/stable/interactive/reference.html#input-caching-system) and the [output caching system](https://ipython.readthedocs.io/en/stable/interactive/reference.html#output-caching-system)."
   ]
  },
  {
   "cell_type": "markdown",
   "id": "7a3314bb-f0b9-43bf-af12-492228805fc3",
   "metadata": {},
   "source": [
    "## 4. Magic commands\n",
    "\n",
    "Jupyter also supports \"magic\" commands that start with `%` (for a single-line command), or `%%` (if the command should apply to the whole cell). We won't go into this much and I also recommend avoiding these in user-facing code. The only magic we really use is the `%%writefile` magic, which we use to write a cell to disk rather than executing it. We have some display logic in inner-source that detects the `%%writefile` magic and displays the cell differently to the user. See https://quantum.cloud.ibm.com/docs/en/guides/serverless-manage-resources#set-detailed-statuses for an example. \n",
    "\n",
    "For more information on magics in general, see https://ipython.readthedocs.io/en/stable/interactive/reference.html#magic-command-system."
   ]
  },
  {
   "cell_type": "code",
   "execution_count": null,
   "id": "18b75c0d-1ff0-4e7a-a855-158aead7c593",
   "metadata": {},
   "outputs": [],
   "source": [
    "%%writefile example.py\n",
    "# This cell will not execute, it will be written to `example.py` instead\n",
    "print('Hello, world!')"
   ]
  }
 ],
 "metadata": {
  "kernelspec": {
   "display_name": "Python 3 (ipykernel)",
   "language": "python",
   "name": "python3"
  },
  "language_info": {
   "codemirror_mode": {
    "name": "ipython",
    "version": 3
   },
   "file_extension": ".py",
   "mimetype": "text/x-python",
   "name": "python",
   "nbconvert_exporter": "python",
   "pygments_lexer": "ipython3",
   "version": "3.13.1"
  }
 },
 "nbformat": 4,
 "nbformat_minor": 5
}
